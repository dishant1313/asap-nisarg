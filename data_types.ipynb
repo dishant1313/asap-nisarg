{
 "cells": [
  {
   "cell_type": "code",
   "execution_count": 3,
   "id": "55ed85d1-cc36-460f-9541-370cc50a3720",
   "metadata": {},
   "outputs": [
    {
     "data": {
      "text/plain": [
       "[0, 1, 2, 3, 4]"
      ]
     },
     "execution_count": 3,
     "metadata": {},
     "output_type": "execute_result"
    }
   ],
   "source": [
    "list (range(5))"
   ]
  },
  {
   "cell_type": "code",
   "execution_count": 5,
   "id": "5554c8be-32d1-40a5-be92-d0583ea1164d",
   "metadata": {},
   "outputs": [
    {
     "data": {
      "text/plain": [
       "(0, 1, 2, 3, 4)"
      ]
     },
     "execution_count": 5,
     "metadata": {},
     "output_type": "execute_result"
    }
   ],
   "source": [
    "tuple (range(5))"
   ]
  },
  {
   "cell_type": "code",
   "execution_count": 7,
   "id": "daec0441-0d21-48db-a95e-48141ef510f9",
   "metadata": {},
   "outputs": [
    {
     "data": {
      "text/plain": [
       "{0, 1, 2, 3, 4}"
      ]
     },
     "execution_count": 7,
     "metadata": {},
     "output_type": "execute_result"
    }
   ],
   "source": [
    "set (range(5))"
   ]
  },
  {
   "cell_type": "code",
   "execution_count": 9,
   "id": "0852267a-563d-4df8-a792-f343159f2c0f",
   "metadata": {},
   "outputs": [
    {
     "data": {
      "text/plain": [
       "15.5"
      ]
     },
     "execution_count": 9,
     "metadata": {},
     "output_type": "execute_result"
    }
   ],
   "source": [
    "a = 15.5\n",
    "a"
   ]
  },
  {
   "cell_type": "code",
   "execution_count": 11,
   "id": "d4a3a32d-279e-425e-ba07-214826183738",
   "metadata": {},
   "outputs": [
    {
     "data": {
      "text/plain": [
       "15"
      ]
     },
     "execution_count": 11,
     "metadata": {},
     "output_type": "execute_result"
    }
   ],
   "source": [
    "int (a)"
   ]
  },
  {
   "cell_type": "code",
   "execution_count": 13,
   "id": "e422fad2-4b0b-44a6-afeb-f87700dc447f",
   "metadata": {},
   "outputs": [
    {
     "data": {
      "text/plain": [
       "True"
      ]
     },
     "execution_count": 13,
     "metadata": {},
     "output_type": "execute_result"
    }
   ],
   "source": [
    "a = 15.5\n",
    "bool (a)"
   ]
  },
  {
   "cell_type": "code",
   "execution_count": 15,
   "id": "017bd175-93ee-459b-b3d3-20311c2480a9",
   "metadata": {},
   "outputs": [
    {
     "data": {
      "text/plain": [
       "False"
      ]
     },
     "execution_count": 15,
     "metadata": {},
     "output_type": "execute_result"
    }
   ],
   "source": [
    "a = 0\n",
    "bool (a)"
   ]
  },
  {
   "cell_type": "code",
   "execution_count": 17,
   "id": "43777f43-3f0b-41b6-b214-558a0368d811",
   "metadata": {},
   "outputs": [
    {
     "data": {
      "text/plain": [
       "True"
      ]
     },
     "execution_count": 17,
     "metadata": {},
     "output_type": "execute_result"
    }
   ],
   "source": [
    "a = 0.000000000001\n",
    "bool (a)"
   ]
  },
  {
   "cell_type": "code",
   "execution_count": 19,
   "id": "1b1d6e38-61ee-48ad-abf9-8446629d5517",
   "metadata": {},
   "outputs": [
    {
     "data": {
      "text/plain": [
       "1"
      ]
     },
     "execution_count": 19,
     "metadata": {},
     "output_type": "execute_result"
    }
   ],
   "source": [
    "int (True)"
   ]
  },
  {
   "cell_type": "code",
   "execution_count": 21,
   "id": "df8b841d-c72d-4d03-b486-859c9521376a",
   "metadata": {},
   "outputs": [
    {
     "data": {
      "text/plain": [
       "0"
      ]
     },
     "execution_count": 21,
     "metadata": {},
     "output_type": "execute_result"
    }
   ],
   "source": [
    "int (False)"
   ]
  },
  {
   "cell_type": "code",
   "execution_count": 23,
   "id": "2ea2f04b-f173-474a-aad4-7de5d9b715e5",
   "metadata": {},
   "outputs": [
    {
     "data": {
      "text/plain": [
       "(20, 30, 40, 50)"
      ]
     },
     "execution_count": 23,
     "metadata": {},
     "output_type": "execute_result"
    }
   ],
   "source": [
    "l1 = [20,30,40,50]\n",
    "tuple (l1)"
   ]
  },
  {
   "cell_type": "code",
   "execution_count": 25,
   "id": "1fd3dbbd-18bc-4ec2-b339-e8e361332cc7",
   "metadata": {},
   "outputs": [
    {
     "data": {
      "text/plain": [
       "15"
      ]
     },
     "execution_count": 25,
     "metadata": {},
     "output_type": "execute_result"
    }
   ],
   "source": [
    "a = 15.8\n",
    "int (a)"
   ]
  },
  {
   "cell_type": "code",
   "execution_count": 27,
   "id": "cd0ab7c4-8fd1-48d3-a15f-33631aef8fc3",
   "metadata": {},
   "outputs": [
    {
     "name": "stdout",
     "output_type": "stream",
     "text": [
      "70\n"
     ]
    }
   ],
   "source": [
    "a  =50\n",
    "b = 20\n",
    "c = a+b \n",
    "print (c)"
   ]
  },
  {
   "cell_type": "code",
   "execution_count": 29,
   "id": "a48ab925-006d-44a3-88af-0056656211f6",
   "metadata": {},
   "outputs": [
    {
     "name": "stdout",
     "output_type": "stream",
     "text": [
      "30\n"
     ]
    }
   ],
   "source": [
    "a  =50\n",
    "b = 20\n",
    "c = a-b \n",
    "print (c)"
   ]
  },
  {
   "cell_type": "code",
   "execution_count": 31,
   "id": "6112be10-f778-48c0-8e9b-03acef097120",
   "metadata": {},
   "outputs": [
    {
     "name": "stdout",
     "output_type": "stream",
     "text": [
      "1000\n"
     ]
    }
   ],
   "source": [
    "a  =50\n",
    "b = 20\n",
    "c = a*b \n",
    "print (c)"
   ]
  },
  {
   "cell_type": "code",
   "execution_count": 33,
   "id": "792f1166-4014-4bc8-98b2-18ed3a9cc35d",
   "metadata": {},
   "outputs": [
    {
     "name": "stdout",
     "output_type": "stream",
     "text": [
      "2.5\n"
     ]
    }
   ],
   "source": [
    "a  =50\n",
    "b = 20\n",
    "c = a/b \n",
    "print (c)"
   ]
  },
  {
   "cell_type": "code",
   "execution_count": 35,
   "id": "433b874f-0675-49a4-be9a-c3813776b4c5",
   "metadata": {},
   "outputs": [
    {
     "name": "stdout",
     "output_type": "stream",
     "text": [
      "10\n"
     ]
    }
   ],
   "source": [
    "a  =50\n",
    "b = 20\n",
    "c = a %b \n",
    "print (c)"
   ]
  },
  {
   "cell_type": "code",
   "execution_count": 37,
   "id": "5b2212f0-f40c-4cad-a2b5-bd4dee12c2ef",
   "metadata": {},
   "outputs": [
    {
     "name": "stdout",
     "output_type": "stream",
     "text": [
      "2\n"
     ]
    }
   ],
   "source": [
    "a  =50\n",
    "b = 20\n",
    "c = a //b \n",
    "print (c)"
   ]
  },
  {
   "cell_type": "code",
   "execution_count": 45,
   "id": "175d7366-37a7-4169-aa3d-be1f87f512e4",
   "metadata": {},
   "outputs": [
    {
     "data": {
      "text/plain": [
       "1024"
      ]
     },
     "execution_count": 45,
     "metadata": {},
     "output_type": "execute_result"
    }
   ],
   "source": [
    "2 *2*2*2*2 *2*2*2*2 *2"
   ]
  },
  {
   "cell_type": "code",
   "execution_count": 47,
   "id": "66c554c0-d7d7-4700-a175-958084dc7c61",
   "metadata": {},
   "outputs": [
    {
     "ename": "ValueError",
     "evalue": "invalid literal for int() with base 10: 'Sunday'",
     "output_type": "error",
     "traceback": [
      "\u001b[1;31m---------------------------------------------------------------------------\u001b[0m",
      "\u001b[1;31mValueError\u001b[0m                                Traceback (most recent call last)",
      "Cell \u001b[1;32mIn[47], line 1\u001b[0m\n\u001b[1;32m----> 1\u001b[0m \u001b[38;5;28;43mint\u001b[39;49m\u001b[43m \u001b[49m\u001b[43m(\u001b[49m\u001b[38;5;124;43m'\u001b[39;49m\u001b[38;5;124;43mSunday\u001b[39;49m\u001b[38;5;124;43m'\u001b[39;49m\u001b[43m)\u001b[49m\n",
      "\u001b[1;31mValueError\u001b[0m: invalid literal for int() with base 10: 'Sunday'"
     ]
    }
   ],
   "source": [
    "int ('Sunday')"
   ]
  },
  {
   "cell_type": "code",
   "execution_count": 49,
   "id": "e43c5adf-9474-4697-92cf-73ee7082fc48",
   "metadata": {},
   "outputs": [
    {
     "data": {
      "text/plain": [
       "'200'"
      ]
     },
     "execution_count": 49,
     "metadata": {},
     "output_type": "execute_result"
    }
   ],
   "source": [
    "str (200)"
   ]
  },
  {
   "cell_type": "code",
   "execution_count": 51,
   "id": "bf1d4a77-61f0-4c3b-b9cc-aae6e43a3e0e",
   "metadata": {},
   "outputs": [
    {
     "data": {
      "text/plain": [
       "200"
      ]
     },
     "execution_count": 51,
     "metadata": {},
     "output_type": "execute_result"
    }
   ],
   "source": [
    "int ('200')"
   ]
  },
  {
   "cell_type": "code",
   "execution_count": null,
   "id": "4ce75494-d0e4-4cae-b90c-2940838ebbe0",
   "metadata": {},
   "outputs": [],
   "source": [
    "int ('Sunday')"
   ]
  },
  {
   "cell_type": "code",
   "execution_count": 53,
   "id": "9a3b1832-350b-48de-a7bd-edc2821d0118",
   "metadata": {},
   "outputs": [
    {
     "data": {
      "text/plain": [
       "8595914152"
      ]
     },
     "execution_count": 53,
     "metadata": {},
     "output_type": "execute_result"
    }
   ],
   "source": [
    "8595914152"
   ]
  },
  {
   "cell_type": "code",
   "execution_count": 55,
   "id": "413df913-088c-418a-bc0a-c433ef172c55",
   "metadata": {},
   "outputs": [
    {
     "data": {
      "text/plain": [
       "1024"
      ]
     },
     "execution_count": 55,
     "metadata": {},
     "output_type": "execute_result"
    }
   ],
   "source": [
    "2 *2*2*2*2 *2*2*2*2 *2"
   ]
  },
  {
   "cell_type": "code",
   "execution_count": 57,
   "id": "650d6c75-6739-4a62-a752-9a9e82d41b29",
   "metadata": {},
   "outputs": [
    {
     "data": {
      "text/plain": [
       "1024"
      ]
     },
     "execution_count": 57,
     "metadata": {},
     "output_type": "execute_result"
    }
   ],
   "source": [
    "2 **10"
   ]
  },
  {
   "cell_type": "code",
   "execution_count": 59,
   "id": "c2674d95-c391-4174-a79d-a3f4b1e7c56b",
   "metadata": {},
   "outputs": [
    {
     "name": "stdout",
     "output_type": "stream",
     "text": [
      "70\n"
     ]
    }
   ],
   "source": [
    "a = 50\n",
    "b = 20\n",
    "c = a+b \n",
    "print (c)"
   ]
  },
  {
   "cell_type": "code",
   "execution_count": 67,
   "id": "4584b6ed-14bb-476d-a5a7-5190918d814b",
   "metadata": {},
   "outputs": [
    {
     "name": "stdout",
     "output_type": "stream",
     "text": [
      "70\n"
     ]
    }
   ],
   "source": [
    "a = 50\n",
    "b = 20\n",
    "a = a+b \n",
    "print (a)"
   ]
  },
  {
   "cell_type": "code",
   "execution_count": 69,
   "id": "a7139e3c-95c6-4c32-b601-000300bfb1d9",
   "metadata": {},
   "outputs": [
    {
     "name": "stdout",
     "output_type": "stream",
     "text": [
      "70\n"
     ]
    }
   ],
   "source": [
    "a = 50\n",
    "b = 20\n",
    "a +=b \n",
    "print (a)"
   ]
  },
  {
   "cell_type": "code",
   "execution_count": 71,
   "id": "43e62cbd-8114-4638-88f3-0289c132a5f1",
   "metadata": {},
   "outputs": [
    {
     "name": "stdout",
     "output_type": "stream",
     "text": [
      "30\n"
     ]
    }
   ],
   "source": [
    "a = 50\n",
    "b = 20\n",
    "a -=b \n",
    "print (a)"
   ]
  },
  {
   "cell_type": "code",
   "execution_count": 73,
   "id": "30793edf-d13b-4a0e-bd8a-8726275f3f46",
   "metadata": {},
   "outputs": [
    {
     "name": "stdout",
     "output_type": "stream",
     "text": [
      "70\n"
     ]
    }
   ],
   "source": [
    "a = 50\n",
    "b = 20\n",
    "a +=b \n",
    "print (c)"
   ]
  },
  {
   "cell_type": "code",
   "execution_count": 75,
   "id": "31d92a6a-3464-4e05-9f31-aa2ceada9918",
   "metadata": {},
   "outputs": [
    {
     "ename": "NameError",
     "evalue": "name 'm' is not defined",
     "output_type": "error",
     "traceback": [
      "\u001b[1;31m---------------------------------------------------------------------------\u001b[0m",
      "\u001b[1;31mNameError\u001b[0m                                 Traceback (most recent call last)",
      "Cell \u001b[1;32mIn[75], line 4\u001b[0m\n\u001b[0;32m      2\u001b[0m b \u001b[38;5;241m=\u001b[39m \u001b[38;5;241m20\u001b[39m\n\u001b[0;32m      3\u001b[0m a \u001b[38;5;241m+\u001b[39m\u001b[38;5;241m=\u001b[39mb \n\u001b[1;32m----> 4\u001b[0m \u001b[38;5;28mprint\u001b[39m (\u001b[43mm\u001b[49m)\n",
      "\u001b[1;31mNameError\u001b[0m: name 'm' is not defined"
     ]
    }
   ],
   "source": [
    "a = 50\n",
    "b = 20\n",
    "a +=b \n",
    "print (m)"
   ]
  },
  {
   "cell_type": "code",
   "execution_count": 77,
   "id": "a5d3f3af-c3f0-4752-b1e3-337021a9a742",
   "metadata": {},
   "outputs": [
    {
     "name": "stdout",
     "output_type": "stream",
     "text": [
      "30\n"
     ]
    }
   ],
   "source": [
    "a = 50\n",
    "b = 20\n",
    "a -=b \n",
    "print (a)"
   ]
  },
  {
   "cell_type": "code",
   "execution_count": 79,
   "id": "bf367799-14d8-4ae9-9877-77881f032554",
   "metadata": {},
   "outputs": [
    {
     "name": "stdout",
     "output_type": "stream",
     "text": [
      "1000\n"
     ]
    }
   ],
   "source": [
    "a = 50\n",
    "b = 20\n",
    "a *=b \n",
    "print (a)"
   ]
  },
  {
   "cell_type": "code",
   "execution_count": 81,
   "id": "50d75c70-449e-4325-9a0b-c8a47fa5cd23",
   "metadata": {},
   "outputs": [
    {
     "name": "stdout",
     "output_type": "stream",
     "text": [
      "2.5\n"
     ]
    }
   ],
   "source": [
    "a = 50\n",
    "b = 20\n",
    "a /=b \n",
    "print (a)"
   ]
  },
  {
   "cell_type": "code",
   "execution_count": 83,
   "id": "67b96ea5-fbda-4868-8148-e9f6c112f702",
   "metadata": {},
   "outputs": [
    {
     "name": "stdout",
     "output_type": "stream",
     "text": [
      "10\n"
     ]
    }
   ],
   "source": [
    "a = 50\n",
    "b = 20\n",
    "a %=b \n",
    "print (a)"
   ]
  },
  {
   "cell_type": "code",
   "execution_count": 85,
   "id": "a36b35ac-c00c-48b6-a8a3-f7ae555bfdb8",
   "metadata": {},
   "outputs": [
    {
     "name": "stdout",
     "output_type": "stream",
     "text": [
      "2\n"
     ]
    }
   ],
   "source": [
    "a = 50\n",
    "b = 20\n",
    "a //=b \n",
    "print (a)"
   ]
  },
  {
   "cell_type": "code",
   "execution_count": 89,
   "id": "c16435b3-4ba9-4dcf-9e13-cbf2e849d9e0",
   "metadata": {},
   "outputs": [
    {
     "name": "stdout",
     "output_type": "stream",
     "text": [
      "1024\n"
     ]
    }
   ],
   "source": [
    "a = 2\n",
    "b = 10\n",
    "a **=b \n",
    "print (a)"
   ]
  },
  {
   "cell_type": "code",
   "execution_count": 91,
   "id": "43e46fd5-c005-4418-96e2-c7d5158a27db",
   "metadata": {},
   "outputs": [
    {
     "name": "stdout",
     "output_type": "stream",
     "text": [
      "Python version\n"
     ]
    }
   ],
   "source": [
    "import sys\n",
    "print(\"Python version\")\n"
   ]
  },
  {
   "cell_type": "code",
   "execution_count": 93,
   "id": "3725a69c-67d5-4164-a1ab-444726231f20",
   "metadata": {},
   "outputs": [
    {
     "name": "stdout",
     "output_type": "stream",
     "text": [
      "3.11.7 | packaged by Anaconda, Inc. | (main, Dec 15 2023, 18:05:47) [MSC v.1916 64 bit (AMD64)]\n",
      "Version info.\n",
      "sys.version_info(major=3, minor=11, micro=7, releaselevel='final', serial=0)\n"
     ]
    }
   ],
   "source": [
    "print (sys.version)\n",
    "print(\"Version info.\")\n",
    "print (sys.version_info)\n"
   ]
  },
  {
   "cell_type": "code",
   "execution_count": 97,
   "id": "c1266e69-a0fc-476b-8f22-7d7dd87fce64",
   "metadata": {},
   "outputs": [
    {
     "data": {
      "text/plain": [
       "datetime.datetime(2024, 10, 13, 16, 44, 35, 388003)"
      ]
     },
     "execution_count": 97,
     "metadata": {},
     "output_type": "execute_result"
    }
   ],
   "source": [
    "import datetime\n",
    "x = datetime.datetime.now()\n",
    "x"
   ]
  },
  {
   "cell_type": "code",
   "execution_count": 99,
   "id": "264719ab-b9e8-4ebd-b09b-8c2a31d7c724",
   "metadata": {},
   "outputs": [
    {
     "name": "stdout",
     "output_type": "stream",
     "text": [
      "Current date and time : \n",
      "2024-10-13 16:45:02\n"
     ]
    }
   ],
   "source": [
    "import datetime\n",
    "now = datetime.datetime.now()\n",
    "print (\"Current date and time : \")\n",
    "print (now.strftime(\"%Y-%m-%d %H:%M:%S\"))\n"
   ]
  },
  {
   "cell_type": "code",
   "execution_count": 101,
   "id": "4ea65624-68fe-4ec3-9dd8-f6be0763ac89",
   "metadata": {},
   "outputs": [
    {
     "name": "stdout",
     "output_type": "stream",
     "text": [
      "Current date and time : \n",
      "13-Oct-2024\n"
     ]
    }
   ],
   "source": [
    "import datetime\n",
    "now = datetime.datetime.now()\n",
    "print (\"Current date and time : \")\n",
    "print (now.strftime(\"%d-%b-%Y\"))\n"
   ]
  },
  {
   "cell_type": "code",
   "execution_count": null,
   "id": "92ee9cc6-3cf1-4c72-bfe8-1c0d538ec037",
   "metadata": {},
   "outputs": [],
   "source": []
  },
  {
   "cell_type": "code",
   "execution_count": null,
   "id": "22b3999f-9421-47b0-95a3-d98e2a02293f",
   "metadata": {},
   "outputs": [],
   "source": []
  },
  {
   "cell_type": "code",
   "execution_count": null,
   "id": "6e7f0106-9717-40c7-90e6-0d053c396ba6",
   "metadata": {},
   "outputs": [],
   "source": []
  },
  {
   "cell_type": "code",
   "execution_count": null,
   "id": "09a07ca2-cf9b-44c5-b78f-7d63eecc28fd",
   "metadata": {},
   "outputs": [],
   "source": []
  },
  {
   "cell_type": "code",
   "execution_count": null,
   "id": "a4f6d8d7-3587-4424-973a-99bd97776b8a",
   "metadata": {},
   "outputs": [],
   "source": []
  },
  {
   "cell_type": "code",
   "execution_count": null,
   "id": "6e1133ab-1132-4267-b9b2-f8d033e56c35",
   "metadata": {},
   "outputs": [],
   "source": []
  },
  {
   "cell_type": "code",
   "execution_count": null,
   "id": "d245a909-9f06-493c-99a0-10be8cc9240e",
   "metadata": {},
   "outputs": [],
   "source": []
  },
  {
   "cell_type": "code",
   "execution_count": null,
   "id": "2e45b115-a8b7-4672-b40a-37c65054a626",
   "metadata": {},
   "outputs": [],
   "source": []
  },
  {
   "cell_type": "code",
   "execution_count": null,
   "id": "e0f01a73-fde4-48a5-a7b2-2b5ff2f3892b",
   "metadata": {},
   "outputs": [],
   "source": []
  },
  {
   "cell_type": "code",
   "execution_count": null,
   "id": "c0812fe1-d74f-4301-b941-2cc3d9bbcbee",
   "metadata": {},
   "outputs": [],
   "source": []
  },
  {
   "cell_type": "code",
   "execution_count": null,
   "id": "92afdb8f-0a49-4f0f-aec8-2d986b9f5e95",
   "metadata": {},
   "outputs": [],
   "source": []
  },
  {
   "cell_type": "code",
   "execution_count": null,
   "id": "a8871f3f-731c-4b13-9e1f-ae1667c72eaf",
   "metadata": {},
   "outputs": [],
   "source": []
  },
  {
   "cell_type": "code",
   "execution_count": null,
   "id": "cc569062-9c85-43db-8ff4-c5cadbb42917",
   "metadata": {},
   "outputs": [],
   "source": []
  },
  {
   "cell_type": "code",
   "execution_count": null,
   "id": "9031a205-d36d-4ea4-aa0b-8388bf61ac21",
   "metadata": {},
   "outputs": [],
   "source": []
  },
  {
   "cell_type": "code",
   "execution_count": null,
   "id": "12daf65d-0daf-4750-a959-b9beb94f6c39",
   "metadata": {},
   "outputs": [],
   "source": []
  }
 ],
 "metadata": {
  "kernelspec": {
   "display_name": "Python 3 (ipykernel)",
   "language": "python",
   "name": "python3"
  },
  "language_info": {
   "codemirror_mode": {
    "name": "ipython",
    "version": 3
   },
   "file_extension": ".py",
   "mimetype": "text/x-python",
   "name": "python",
   "nbconvert_exporter": "python",
   "pygments_lexer": "ipython3",
   "version": "3.11.7"
  }
 },
 "nbformat": 4,
 "nbformat_minor": 5
}
